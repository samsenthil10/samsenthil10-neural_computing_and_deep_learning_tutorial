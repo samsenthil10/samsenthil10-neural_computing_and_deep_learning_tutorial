{
 "cells": [
  {
   "cell_type": "markdown",
   "metadata": {
    "id": "BAfJCaULD2Yp"
   },
   "source": [
    "# Distributed Training of Neural Network Models\n",
    "\n",
    "\n",
    "Below is the basic implementation of Federated Learning code for 2 clients and a server for one communication round using the MNIST dataset.\n",
    "\n",
    "Your task for this lab is to utilize this code as a benchmark and accomplish  the following objectives:\n",
    "\n",
    "1. Comment each section of the code to understand its functionality.\n",
    "\n",
    "2. Experiment with different neural network architectures, varying the number of layers and activation functions\n",
    "\n",
    "3. Assess the model's performance (accuracy, precision, recall, and f-score) as the number of clients changes. Utilize 2, 4, 6, 8, and 10 clients, and plot a graph illustrating the model's performance across varying client counts.\n",
    "\n",
    "4. Introduce one dishonest client for a any sepcific number of clients of your choice. For this client, assign some training labels ('y_train') to a specific label, such as '4'. Analyze how the performance ((accuracy, precision, recall, and f-score)) of the global model is affected by the presence of a dishonest client. Find approximately how many labels need to be maliciously altered so that the performance degrades."
   ]
  },
  {
   "cell_type": "code",
   "execution_count": 1,
   "metadata": {
    "colab": {
     "base_uri": "https://localhost:8080/"
    },
    "id": "P_GFzZjxRR5O",
    "outputId": "7d47895d-cc75-4518-8f0e-aa0fdedb7714"
   },
   "outputs": [
    {
     "name": "stdout",
     "output_type": "stream",
     "text": [
      "WARNING:tensorflow:From C:\\Users\\sasen\\anaconda3\\Lib\\site-packages\\keras\\src\\losses.py:2976: The name tf.losses.sparse_softmax_cross_entropy is deprecated. Please use tf.compat.v1.losses.sparse_softmax_cross_entropy instead.\n",
      "\n"
     ]
    }
   ],
   "source": [
    "import numpy as np\n",
    "import tensorflow as tf\n",
    "from tensorflow.keras.datasets import mnist\n",
    "from tensorflow.keras.models import Sequential\n",
    "from tensorflow.keras.layers import Dense, Flatten\n",
    "from tensorflow.keras.optimizers import SGD\n",
    "from sklearn.model_selection import train_test_split\n",
    "from keras import backend as K\n",
    "import random"
   ]
  },
  {
   "cell_type": "code",
   "execution_count": 2,
   "metadata": {},
   "outputs": [
    {
     "name": "stdout",
     "output_type": "stream",
     "text": [
      "WARNING:tensorflow:From C:\\Users\\sasen\\anaconda3\\Lib\\site-packages\\keras\\src\\backend.py:277: The name tf.reset_default_graph is deprecated. Please use tf.compat.v1.reset_default_graph instead.\n",
      "\n"
     ]
    }
   ],
   "source": [
    "np.random.seed(2297667) # Set seed for numpy. Put your SID instead of number '42'\n",
    "random.seed(2297667) # Set seed for Python's built-in random number generator.  Put your SID instead of number '42'\n",
    "tf.random.set_seed(2297667) # Set seed for TensorFlow. Put your SID instead of number '42'\n",
    "K.clear_session()"
   ]
  },
  {
   "cell_type": "code",
   "execution_count": 3,
   "metadata": {},
   "outputs": [],
   "source": [
    "# Load MNIST dataset\n",
    "(x_train, y_train), (x_test, y_test) = mnist.load_data()"
   ]
  },
  {
   "cell_type": "code",
   "execution_count": 4,
   "metadata": {},
   "outputs": [],
   "source": [
    "# Normalize and reshape data\n",
    "x_train = x_train.astype('float32') / 255.0\n",
    "x_test = x_test.astype('float32') / 255.0\n",
    "x_train = np.expand_dims(x_train, -1)\n",
    "x_test = np.expand_dims(x_test, -1)"
   ]
  },
  {
   "cell_type": "code",
   "execution_count": 5,
   "metadata": {},
   "outputs": [],
   "source": [
    "# Define client functions\n",
    "def create_client_model():\n",
    "    model = Sequential([\n",
    "        Flatten(input_shape=(28, 28, 1)),\n",
    "        Dense(128, activation='relu'),\n",
    "        Dense(10, activation='softmax')\n",
    "    ])\n",
    "    model.compile(optimizer='adam', loss='sparse_categorical_crossentropy', metrics=['accuracy'])\n",
    "    return model"
   ]
  },
  {
   "cell_type": "code",
   "execution_count": 6,
   "metadata": {},
   "outputs": [],
   "source": [
    "def train_client_model(model, x_train, y_train, epochs=5):\n",
    "    model.fit(x_train, y_train, epochs=epochs, verbose=1)\n",
    "    return model"
   ]
  },
  {
   "cell_type": "markdown",
   "metadata": {},
   "source": [
    "### 2 Clients"
   ]
  },
  {
   "cell_type": "code",
   "execution_count": 7,
   "metadata": {},
   "outputs": [],
   "source": [
    "# Split data into two clients\n",
    "x_train_c1, x_train_c2, y_train_c1, y_train_c2 = train_test_split(x_train, y_train, test_size=0.5, random_state=42)"
   ]
  },
  {
   "cell_type": "code",
   "execution_count": 8,
   "metadata": {},
   "outputs": [
    {
     "name": "stdout",
     "output_type": "stream",
     "text": [
      "WARNING:tensorflow:From C:\\Users\\sasen\\anaconda3\\Lib\\site-packages\\keras\\src\\optimizers\\__init__.py:309: The name tf.train.Optimizer is deprecated. Please use tf.compat.v1.train.Optimizer instead.\n",
      "\n",
      "Epoch 1/5\n",
      "WARNING:tensorflow:From C:\\Users\\sasen\\anaconda3\\Lib\\site-packages\\keras\\src\\utils\\tf_utils.py:492: The name tf.ragged.RaggedTensorValue is deprecated. Please use tf.compat.v1.ragged.RaggedTensorValue instead.\n",
      "\n",
      "WARNING:tensorflow:From C:\\Users\\sasen\\anaconda3\\Lib\\site-packages\\keras\\src\\engine\\base_layer_utils.py:384: The name tf.executing_eagerly_outside_functions is deprecated. Please use tf.compat.v1.executing_eagerly_outside_functions instead.\n",
      "\n",
      "938/938 [==============================] - 2s 2ms/step - loss: 0.3426 - accuracy: 0.9026\n",
      "Epoch 2/5\n",
      "938/938 [==============================] - 4s 4ms/step - loss: 0.1554 - accuracy: 0.9549\n",
      "Epoch 3/5\n",
      "938/938 [==============================] - 4s 4ms/step - loss: 0.1087 - accuracy: 0.9688\n",
      "Epoch 4/5\n",
      "938/938 [==============================] - 4s 4ms/step - loss: 0.0799 - accuracy: 0.9765\n",
      "Epoch 5/5\n",
      "938/938 [==============================] - 4s 4ms/step - loss: 0.0617 - accuracy: 0.9824\n",
      "\n",
      "Epoch 1/5\n",
      "938/938 [==============================] - 5s 4ms/step - loss: 0.3363 - accuracy: 0.9044\n",
      "Epoch 2/5\n",
      "938/938 [==============================] - 4s 4ms/step - loss: 0.1574 - accuracy: 0.9548\n",
      "Epoch 3/5\n",
      "938/938 [==============================] - 4s 4ms/step - loss: 0.1075 - accuracy: 0.9674\n",
      "Epoch 4/5\n",
      "938/938 [==============================] - 4s 4ms/step - loss: 0.0791 - accuracy: 0.9772\n",
      "Epoch 5/5\n",
      "938/938 [==============================] - 3s 4ms/step - loss: 0.0617 - accuracy: 0.9812\n"
     ]
    }
   ],
   "source": [
    "# Create and train client models\n",
    "client1_model = create_client_model()\n",
    "client2_model = create_client_model()\n",
    "\n",
    "client1_model = train_client_model(client1_model, x_train_c1, y_train_c1)\n",
    "print()\n",
    "client2_model = train_client_model(client2_model, x_train_c2, y_train_c2)"
   ]
  },
  {
   "cell_type": "code",
   "execution_count": 9,
   "metadata": {},
   "outputs": [],
   "source": [
    "# Federated averaging\n",
    "def federated_average_weights(weights1, weights2):\n",
    "    new_weights = []\n",
    "    for w1, w2 in zip(weights1, weights2):\n",
    "        new_weights.append((w1 + w2) / 2)\n",
    "    return new_weights"
   ]
  },
  {
   "cell_type": "code",
   "execution_count": 10,
   "metadata": {},
   "outputs": [],
   "source": [
    "# Aggregate models\n",
    "aggregated_weights = federated_average_weights(client1_model.get_weights(), client2_model.get_weights())"
   ]
  },
  {
   "cell_type": "code",
   "execution_count": 11,
   "metadata": {},
   "outputs": [],
   "source": [
    "# Create global model and set weights\n",
    "global_model = create_client_model()\n",
    "global_model.set_weights(aggregated_weights)"
   ]
  },
  {
   "cell_type": "code",
   "execution_count": 12,
   "metadata": {},
   "outputs": [
    {
     "name": "stdout",
     "output_type": "stream",
     "text": [
      "313/313 - 1s - loss: 0.3636 - accuracy: 0.9060 - 1s/epoch - 4ms/step\n",
      "Test accuracy: 0.906000018119812\n"
     ]
    }
   ],
   "source": [
    "# Evaluate global model\n",
    "test_loss, test_acc = global_model.evaluate(x_test, y_test, verbose=2)\n",
    "print('Test accuracy:', test_acc)"
   ]
  },
  {
   "cell_type": "code",
   "execution_count": 13,
   "metadata": {},
   "outputs": [],
   "source": [
    "from sklearn.metrics import classification_report\n",
    "from sklearn.metrics import accuracy_score, precision_score, recall_score, f1_score"
   ]
  },
  {
   "cell_type": "code",
   "execution_count": 14,
   "metadata": {},
   "outputs": [
    {
     "name": "stdout",
     "output_type": "stream",
     "text": [
      "313/313 [==============================] - 1s 2ms/step\n",
      "(10000, 10)\n"
     ]
    }
   ],
   "source": [
    "predictions = global_model.predict(x_test)\n",
    "print(predictions.shape)\n",
    "\n",
    "predictions = list(predictions.argmax(axis=1))"
   ]
  },
  {
   "cell_type": "code",
   "execution_count": 15,
   "metadata": {},
   "outputs": [
    {
     "name": "stdout",
     "output_type": "stream",
     "text": [
      "              precision    recall  f1-score   support\n",
      "\n",
      "           0       1.00      0.82      0.90       980\n",
      "           1       0.99      0.97      0.98      1135\n",
      "           2       0.88      0.95      0.91      1032\n",
      "           3       0.85      0.96      0.90      1010\n",
      "           4       0.96      0.95      0.95       982\n",
      "           5       0.73      0.91      0.81       892\n",
      "           6       0.94      0.85      0.89       958\n",
      "           7       0.92      0.96      0.94      1028\n",
      "           8       0.95      0.75      0.84       974\n",
      "           9       0.89      0.92      0.91      1009\n",
      "\n",
      "    accuracy                           0.91     10000\n",
      "   macro avg       0.91      0.90      0.90     10000\n",
      "weighted avg       0.91      0.91      0.91     10000\n",
      "\n"
     ]
    }
   ],
   "source": [
    "two_client_classification_report = classification_report(y_test, predictions)\n",
    "print(two_client_classification_report)"
   ]
  },
  {
   "cell_type": "code",
   "execution_count": 16,
   "metadata": {},
   "outputs": [
    {
     "name": "stdout",
     "output_type": "stream",
     "text": [
      "Accuracy test set:  0.906\n",
      "Precision test set:  0.9137041502903684\n",
      "Recall test set:  0.906\n",
      "F1-Score test set:  0.9062726098001964\n"
     ]
    }
   ],
   "source": [
    "two_client_accuracy = accuracy_score(y_test,predictions)\n",
    "two_client_precision = precision_score(y_test,predictions, average='weighted')\n",
    "two_client_recall = recall_score(y_test,predictions, average='weighted')\n",
    "two_client_f1 = f1_score(y_test,predictions, average='weighted')\n",
    "print(\"Accuracy test set: \", two_client_accuracy)\n",
    "print(\"Precision test set: \", two_client_precision)\n",
    "print(\"Recall test set: \", two_client_recall )\n",
    "print(\"F1-Score test set: \", two_client_f1)"
   ]
  },
  {
   "cell_type": "markdown",
   "metadata": {
    "id": "aeKbFr6UHMPx"
   },
   "source": [
    "# Lab Logbook requirement: Document the following in lablogbook\n",
    "\n",
    "1. Plot the model's performance for the number of clients ranging from 2, 4, 6, 8, and 10.\n",
    "\n",
    "2. For any specified number of clients, compare the model's performance when one (or more) dishonest clients are present. Plot the performance metrics before and after the presence of dishonest clients.\n",
    "\n",
    "\n"
   ]
  },
  {
   "cell_type": "markdown",
   "metadata": {
    "id": "PQVf56VHHNQe"
   },
   "source": [
    "# Challenges (Optional):\n",
    "\n",
    "## The above code is for one communication round. Write code for multiple communication rounds. In each communication round, clients will train the model on a new dataset. Then the server will merge all these models. Subsequently, the clients will retrain the merged model in the next communication round.\n",
    "\n"
   ]
  },
  {
   "cell_type": "markdown",
   "metadata": {},
   "source": [
    "### 4 Clients"
   ]
  },
  {
   "cell_type": "code",
   "execution_count": 17,
   "metadata": {},
   "outputs": [],
   "source": [
    "# Split data into two clients\n",
    "x_train_ca, x_train_cb, y_train_ca, y_train_cb = train_test_split(x_train, y_train, test_size=0.5, random_state=42)\n",
    "\n",
    "x_train_c1, x_train_c2, y_train_c1, y_train_c2 = train_test_split(x_train_ca, y_train_ca, test_size=0.5, random_state=42)\n",
    "x_train_c3, x_train_c4, y_train_c3, y_train_c4 = train_test_split(x_train_cb, y_train_cb, test_size=0.5, random_state=42)"
   ]
  },
  {
   "cell_type": "code",
   "execution_count": 18,
   "metadata": {},
   "outputs": [
    {
     "name": "stdout",
     "output_type": "stream",
     "text": [
      "Epoch 1/5\n",
      "469/469 [==============================] - 3s 4ms/step - loss: 0.4616 - accuracy: 0.8696\n",
      "Epoch 2/5\n",
      "469/469 [==============================] - 2s 4ms/step - loss: 0.2210 - accuracy: 0.9369\n",
      "Epoch 3/5\n",
      "469/469 [==============================] - 1s 3ms/step - loss: 0.1566 - accuracy: 0.9546\n",
      "Epoch 4/5\n",
      "469/469 [==============================] - 2s 4ms/step - loss: 0.1211 - accuracy: 0.9653\n",
      "Epoch 5/5\n",
      "469/469 [==============================] - 1s 3ms/step - loss: 0.0930 - accuracy: 0.9747\n",
      "\n",
      "Epoch 1/5\n",
      "469/469 [==============================] - 3s 4ms/step - loss: 0.4303 - accuracy: 0.8807\n",
      "Epoch 2/5\n",
      "469/469 [==============================] - 2s 4ms/step - loss: 0.2075 - accuracy: 0.9402\n",
      "Epoch 3/5\n",
      "469/469 [==============================] - 2s 3ms/step - loss: 0.1469 - accuracy: 0.9577\n",
      "Epoch 4/5\n",
      "469/469 [==============================] - 2s 3ms/step - loss: 0.1104 - accuracy: 0.9683\n",
      "Epoch 5/5\n",
      "469/469 [==============================] - 2s 4ms/step - loss: 0.0851 - accuracy: 0.9755\n",
      "\n",
      "Epoch 1/5\n",
      "469/469 [==============================] - 3s 4ms/step - loss: 0.4595 - accuracy: 0.8735\n",
      "Epoch 2/5\n",
      "469/469 [==============================] - 2s 4ms/step - loss: 0.2166 - accuracy: 0.9384\n",
      "Epoch 3/5\n",
      "469/469 [==============================] - 2s 3ms/step - loss: 0.1520 - accuracy: 0.9565\n",
      "Epoch 4/5\n",
      "469/469 [==============================] - 2s 4ms/step - loss: 0.1192 - accuracy: 0.9655\n",
      "Epoch 5/5\n",
      "469/469 [==============================] - 2s 4ms/step - loss: 0.0872 - accuracy: 0.9751\n",
      "\n",
      "Epoch 1/5\n",
      "469/469 [==============================] - 3s 4ms/step - loss: 0.4526 - accuracy: 0.8761\n",
      "Epoch 2/5\n",
      "469/469 [==============================] - 2s 4ms/step - loss: 0.2153 - accuracy: 0.9389\n",
      "Epoch 3/5\n",
      "469/469 [==============================] - 2s 4ms/step - loss: 0.1499 - accuracy: 0.9583\n",
      "Epoch 4/5\n",
      "469/469 [==============================] - 2s 4ms/step - loss: 0.1143 - accuracy: 0.9673\n",
      "Epoch 5/5\n",
      "469/469 [==============================] - 2s 4ms/step - loss: 0.0850 - accuracy: 0.9757\n"
     ]
    }
   ],
   "source": [
    "# Create and train client models\n",
    "client1_model = create_client_model()\n",
    "client2_model = create_client_model()\n",
    "client3_model = create_client_model()\n",
    "client4_model = create_client_model()\n",
    "\n",
    "\n",
    "client1_model = train_client_model(client1_model, x_train_c1, y_train_c1)\n",
    "print()\n",
    "client2_model = train_client_model(client2_model, x_train_c2, y_train_c2)\n",
    "print()\n",
    "client3_model = train_client_model(client3_model, x_train_c3, y_train_c3)\n",
    "print()\n",
    "client4_model = train_client_model(client4_model, x_train_c4, y_train_c4)"
   ]
  },
  {
   "cell_type": "code",
   "execution_count": 19,
   "metadata": {},
   "outputs": [],
   "source": [
    "# Federated averaging\n",
    "def federated_average_weights(weights1, weights2, weight3, weight4):\n",
    "    new_weights = []\n",
    "    for w1, w2, w3, w4 in zip(weights1, weights2, weight3, weight4):\n",
    "        new_weights.append((w1 + w2 + w3 +w4) / 4)\n",
    "    return new_weights"
   ]
  },
  {
   "cell_type": "code",
   "execution_count": 20,
   "metadata": {},
   "outputs": [],
   "source": [
    "# Aggregate models\n",
    "aggregated_weights = federated_average_weights(client1_model.get_weights(), client2_model.get_weights(), client3_model.get_weights(), client4_model.get_weights())"
   ]
  },
  {
   "cell_type": "code",
   "execution_count": 21,
   "metadata": {},
   "outputs": [],
   "source": [
    "# Create global model and set weights\n",
    "global_model = create_client_model()\n",
    "global_model.set_weights(aggregated_weights)"
   ]
  },
  {
   "cell_type": "code",
   "execution_count": 22,
   "metadata": {},
   "outputs": [
    {
     "name": "stdout",
     "output_type": "stream",
     "text": [
      "313/313 - 1s - loss: 0.9856 - accuracy: 0.7037 - 909ms/epoch - 3ms/step\n",
      "Test accuracy: 0.7037000060081482\n"
     ]
    }
   ],
   "source": [
    "# Evaluate global model\n",
    "test_loss, test_acc = global_model.evaluate(x_test, y_test, verbose=2)\n",
    "print('Test accuracy:', test_acc)"
   ]
  },
  {
   "cell_type": "code",
   "execution_count": 23,
   "metadata": {},
   "outputs": [],
   "source": [
    "from sklearn.metrics import classification_report\n",
    "from sklearn.metrics import accuracy_score, precision_score, recall_score, f1_score"
   ]
  },
  {
   "cell_type": "code",
   "execution_count": 24,
   "metadata": {},
   "outputs": [
    {
     "name": "stdout",
     "output_type": "stream",
     "text": [
      "313/313 [==============================] - 1s 2ms/step\n",
      "(10000, 10)\n"
     ]
    }
   ],
   "source": [
    "predictions = global_model.predict(x_test)\n",
    "print(predictions.shape)\n",
    "\n",
    "predictions = list(predictions.argmax(axis=1))"
   ]
  },
  {
   "cell_type": "code",
   "execution_count": 25,
   "metadata": {},
   "outputs": [
    {
     "name": "stdout",
     "output_type": "stream",
     "text": [
      "              precision    recall  f1-score   support\n",
      "\n",
      "           0       0.97      0.77      0.86       980\n",
      "           1       0.88      0.99      0.93      1135\n",
      "           2       0.80      0.92      0.85      1032\n",
      "           3       0.94      0.77      0.85      1010\n",
      "           4       0.92      0.45      0.60       982\n",
      "           5       0.47      0.93      0.62       892\n",
      "           6       0.92      0.79      0.85       958\n",
      "           7       0.41      0.96      0.58      1028\n",
      "           8       1.00      0.07      0.14       974\n",
      "           9       0.91      0.34      0.49      1009\n",
      "\n",
      "    accuracy                           0.70     10000\n",
      "   macro avg       0.82      0.70      0.68     10000\n",
      "weighted avg       0.82      0.70      0.68     10000\n",
      "\n"
     ]
    }
   ],
   "source": [
    "four_client_classification_report = classification_report(y_test, predictions)\n",
    "print(four_client_classification_report)"
   ]
  },
  {
   "cell_type": "code",
   "execution_count": 26,
   "metadata": {},
   "outputs": [
    {
     "name": "stdout",
     "output_type": "stream",
     "text": [
      "Accuracy test set:  0.7037\n",
      "Precision test set:  0.8239934467650722\n",
      "Recall test set:  0.7037\n",
      "F1-Score test set:  0.6822709639898848\n"
     ]
    }
   ],
   "source": [
    "four_client_accuracy = accuracy_score(y_test,predictions)\n",
    "four_client_precision = precision_score(y_test,predictions, average='weighted')\n",
    "four_client_recall = recall_score(y_test,predictions, average='weighted')\n",
    "four_client_f1 = f1_score(y_test,predictions, average='weighted')\n",
    "print(\"Accuracy test set: \", four_client_accuracy)\n",
    "print(\"Precision test set: \", four_client_precision)\n",
    "print(\"Recall test set: \", four_client_recall )\n",
    "print(\"F1-Score test set: \", four_client_f1)"
   ]
  },
  {
   "cell_type": "code",
   "execution_count": null,
   "metadata": {},
   "outputs": [],
   "source": []
  },
  {
   "cell_type": "markdown",
   "metadata": {},
   "source": [
    "### 6 Clients"
   ]
  },
  {
   "cell_type": "code",
   "execution_count": 27,
   "metadata": {},
   "outputs": [],
   "source": [
    "# Split data into two clients\n",
    "x_train_c1 = x_train[0:10000]\n",
    "x_train_c2 = x_train[10000:20000]\n",
    "x_train_c3 = x_train[20000:30000]\n",
    "x_train_c4 = x_train[30000:40000]\n",
    "x_train_c5 = x_train[40000:50000]\n",
    "x_train_c6 = x_train[50000:59999]\n",
    "y_train_c1 = y_train[0:10000]\n",
    "y_train_c2 = y_train[10000:20000]\n",
    "y_train_c3 = y_train[20000:30000]\n",
    "y_train_c4 = y_train[30000:40000]\n",
    "y_train_c5 = y_train[40000:50000]\n",
    "y_train_c6 = y_train[50000:59999]"
   ]
  },
  {
   "cell_type": "code",
   "execution_count": 28,
   "metadata": {},
   "outputs": [
    {
     "name": "stdout",
     "output_type": "stream",
     "text": [
      "Epoch 1/5\n",
      "313/313 [==============================] - 2s 4ms/step - loss: 0.5129 - accuracy: 0.8593\n",
      "Epoch 2/5\n",
      "313/313 [==============================] - 1s 3ms/step - loss: 0.2453 - accuracy: 0.9301\n",
      "Epoch 3/5\n",
      "313/313 [==============================] - 1s 4ms/step - loss: 0.1809 - accuracy: 0.9492\n",
      "Epoch 4/5\n",
      "313/313 [==============================] - 1s 4ms/step - loss: 0.1400 - accuracy: 0.9603\n",
      "Epoch 5/5\n",
      "313/313 [==============================] - 1s 4ms/step - loss: 0.1094 - accuracy: 0.9702\n",
      "\n",
      "Epoch 1/5\n",
      "313/313 [==============================] - 2s 4ms/step - loss: 0.5379 - accuracy: 0.8469\n",
      "Epoch 2/5\n",
      "313/313 [==============================] - 1s 4ms/step - loss: 0.2409 - accuracy: 0.9332\n",
      "Epoch 3/5\n",
      "313/313 [==============================] - 1s 4ms/step - loss: 0.1721 - accuracy: 0.9524\n",
      "Epoch 4/5\n",
      "313/313 [==============================] - 1s 4ms/step - loss: 0.1294 - accuracy: 0.9658\n",
      "Epoch 5/5\n",
      "313/313 [==============================] - 1s 4ms/step - loss: 0.0989 - accuracy: 0.9739\n",
      "\n",
      "Epoch 1/5\n",
      "313/313 [==============================] - 2s 4ms/step - loss: 0.5258 - accuracy: 0.8545\n",
      "Epoch 2/5\n",
      "313/313 [==============================] - 1s 4ms/step - loss: 0.2424 - accuracy: 0.9318\n",
      "Epoch 3/5\n",
      "313/313 [==============================] - 1s 4ms/step - loss: 0.1778 - accuracy: 0.9476\n",
      "Epoch 4/5\n",
      "313/313 [==============================] - 1s 4ms/step - loss: 0.1333 - accuracy: 0.9626\n",
      "Epoch 5/5\n",
      "313/313 [==============================] - 1s 4ms/step - loss: 0.1019 - accuracy: 0.9708\n",
      "\n",
      "Epoch 1/5\n",
      "313/313 [==============================] - 3s 4ms/step - loss: 0.5546 - accuracy: 0.8473\n",
      "Epoch 2/5\n",
      "313/313 [==============================] - 1s 4ms/step - loss: 0.2470 - accuracy: 0.9291\n",
      "Epoch 3/5\n",
      "313/313 [==============================] - 1s 4ms/step - loss: 0.1804 - accuracy: 0.9478\n",
      "Epoch 4/5\n",
      "313/313 [==============================] - 1s 4ms/step - loss: 0.1438 - accuracy: 0.9601\n",
      "Epoch 5/5\n",
      "313/313 [==============================] - 1s 4ms/step - loss: 0.1122 - accuracy: 0.9709\n",
      "\n",
      "Epoch 1/5\n",
      "313/313 [==============================] - 2s 4ms/step - loss: 0.5439 - accuracy: 0.8491\n",
      "Epoch 2/5\n",
      "313/313 [==============================] - 1s 4ms/step - loss: 0.2466 - accuracy: 0.9267\n",
      "Epoch 3/5\n",
      "313/313 [==============================] - 1s 4ms/step - loss: 0.1904 - accuracy: 0.9461\n",
      "Epoch 4/5\n",
      "313/313 [==============================] - 1s 4ms/step - loss: 0.1452 - accuracy: 0.9583\n",
      "Epoch 5/5\n",
      "313/313 [==============================] - 1s 4ms/step - loss: 0.1136 - accuracy: 0.9697\n",
      "\n",
      "Epoch 1/5\n",
      "313/313 [==============================] - 2s 4ms/step - loss: 0.4709 - accuracy: 0.8735\n",
      "Epoch 2/5\n",
      "313/313 [==============================] - 1s 4ms/step - loss: 0.2252 - accuracy: 0.9374\n",
      "Epoch 3/5\n",
      "313/313 [==============================] - 1s 4ms/step - loss: 0.1702 - accuracy: 0.9531\n",
      "Epoch 4/5\n",
      "313/313 [==============================] - 1s 3ms/step - loss: 0.1311 - accuracy: 0.9613\n",
      "Epoch 5/5\n",
      "313/313 [==============================] - 1s 3ms/step - loss: 0.1033 - accuracy: 0.9701\n"
     ]
    }
   ],
   "source": [
    "# Create and train client models\n",
    "client1_model = create_client_model()\n",
    "client2_model = create_client_model()\n",
    "client3_model = create_client_model()\n",
    "client4_model = create_client_model()\n",
    "client5_model = create_client_model()\n",
    "client6_model = create_client_model()\n",
    "\n",
    "\n",
    "client1_model = train_client_model(client1_model, x_train_c1, y_train_c1)\n",
    "print()\n",
    "client2_model = train_client_model(client2_model, x_train_c2, y_train_c2)\n",
    "print()\n",
    "client3_model = train_client_model(client3_model, x_train_c3, y_train_c3)\n",
    "print()\n",
    "client4_model = train_client_model(client4_model, x_train_c4, y_train_c4)\n",
    "print()\n",
    "client5_model = train_client_model(client5_model, x_train_c5, y_train_c5)\n",
    "print()\n",
    "client6_model = train_client_model(client6_model, x_train_c6, y_train_c6)"
   ]
  },
  {
   "cell_type": "code",
   "execution_count": 29,
   "metadata": {},
   "outputs": [],
   "source": [
    "# Federated averaging\n",
    "def federated_average_weights(weight1, weight2, weight3, weight4, weight5, weight6):\n",
    "    new_weights = []\n",
    "    for w1, w2, w3, w4, w5, w6 in zip(weight1, weight2, weight3, weight4, weight5, weight6):\n",
    "        new_weights.append((w1 + w2 + w3 +w4 +w5 +w6) / 6)\n",
    "    return new_weights"
   ]
  },
  {
   "cell_type": "code",
   "execution_count": 30,
   "metadata": {},
   "outputs": [],
   "source": [
    "# Aggregate models\n",
    "aggregated_weights = federated_average_weights(client1_model.get_weights(), client2_model.get_weights(), client3_model.get_weights(), client4_model.get_weights(), \n",
    "                                               client5_model.get_weights(), client6_model.get_weights())"
   ]
  },
  {
   "cell_type": "code",
   "execution_count": 31,
   "metadata": {},
   "outputs": [],
   "source": [
    "# Create global model and set weights\n",
    "global_model = create_client_model()\n",
    "global_model.set_weights(aggregated_weights)"
   ]
  },
  {
   "cell_type": "code",
   "execution_count": 32,
   "metadata": {},
   "outputs": [
    {
     "name": "stdout",
     "output_type": "stream",
     "text": [
      "313/313 - 1s - loss: 1.3447 - accuracy: 0.5255 - 972ms/epoch - 3ms/step\n",
      "Test accuracy: 0.5254999995231628\n"
     ]
    }
   ],
   "source": [
    "# Evaluate global model\n",
    "test_loss, test_acc = global_model.evaluate(x_test, y_test, verbose=2)\n",
    "print('Test accuracy:', test_acc)"
   ]
  },
  {
   "cell_type": "code",
   "execution_count": 33,
   "metadata": {},
   "outputs": [],
   "source": [
    "from sklearn.metrics import classification_report\n",
    "from sklearn.metrics import accuracy_score, precision_score, recall_score, f1_score"
   ]
  },
  {
   "cell_type": "code",
   "execution_count": 34,
   "metadata": {},
   "outputs": [
    {
     "name": "stdout",
     "output_type": "stream",
     "text": [
      "313/313 [==============================] - 1s 2ms/step\n",
      "(10000, 10)\n"
     ]
    }
   ],
   "source": [
    "predictions = global_model.predict(x_test)\n",
    "print(predictions.shape)\n",
    "\n",
    "predictions = list(predictions.argmax(axis=1))"
   ]
  },
  {
   "cell_type": "code",
   "execution_count": 35,
   "metadata": {},
   "outputs": [
    {
     "name": "stdout",
     "output_type": "stream",
     "text": [
      "              precision    recall  f1-score   support\n",
      "\n",
      "           0       1.00      0.16      0.27       980\n",
      "           1       0.98      0.93      0.95      1135\n",
      "           2       0.60      0.95      0.74      1032\n",
      "           3       0.97      0.29      0.45      1010\n",
      "           4       0.97      0.34      0.51       982\n",
      "           5       0.19      0.99      0.32       892\n",
      "           6       0.98      0.32      0.48       958\n",
      "           7       0.75      0.92      0.83      1028\n",
      "           8       0.00      0.00      0.00       974\n",
      "           9       0.90      0.30      0.45      1009\n",
      "\n",
      "    accuracy                           0.53     10000\n",
      "   macro avg       0.73      0.52      0.50     10000\n",
      "weighted avg       0.74      0.53      0.51     10000\n",
      "\n"
     ]
    },
    {
     "name": "stderr",
     "output_type": "stream",
     "text": [
      "C:\\Users\\sasen\\anaconda3\\Lib\\site-packages\\sklearn\\metrics\\_classification.py:1344: UndefinedMetricWarning: Precision and F-score are ill-defined and being set to 0.0 in labels with no predicted samples. Use `zero_division` parameter to control this behavior.\n",
      "  _warn_prf(average, modifier, msg_start, len(result))\n",
      "C:\\Users\\sasen\\anaconda3\\Lib\\site-packages\\sklearn\\metrics\\_classification.py:1344: UndefinedMetricWarning: Precision and F-score are ill-defined and being set to 0.0 in labels with no predicted samples. Use `zero_division` parameter to control this behavior.\n",
      "  _warn_prf(average, modifier, msg_start, len(result))\n",
      "C:\\Users\\sasen\\anaconda3\\Lib\\site-packages\\sklearn\\metrics\\_classification.py:1344: UndefinedMetricWarning: Precision and F-score are ill-defined and being set to 0.0 in labels with no predicted samples. Use `zero_division` parameter to control this behavior.\n",
      "  _warn_prf(average, modifier, msg_start, len(result))\n"
     ]
    }
   ],
   "source": [
    "six_client_classification_report = classification_report(y_test, predictions)\n",
    "print(six_client_classification_report)"
   ]
  },
  {
   "cell_type": "code",
   "execution_count": 36,
   "metadata": {
    "scrolled": true
   },
   "outputs": [
    {
     "name": "stdout",
     "output_type": "stream",
     "text": [
      "Accuracy test set:  0.5255\n",
      "Precision test set:  0.7437409603473603\n",
      "Recall test set:  0.5255\n",
      "F1-Score test set:  0.5113461237751503\n"
     ]
    },
    {
     "name": "stderr",
     "output_type": "stream",
     "text": [
      "C:\\Users\\sasen\\anaconda3\\Lib\\site-packages\\sklearn\\metrics\\_classification.py:1344: UndefinedMetricWarning: Precision is ill-defined and being set to 0.0 in labels with no predicted samples. Use `zero_division` parameter to control this behavior.\n",
      "  _warn_prf(average, modifier, msg_start, len(result))\n"
     ]
    }
   ],
   "source": [
    "six_client_accuracy = accuracy_score(y_test,predictions)\n",
    "six_client_precision = precision_score(y_test,predictions, average='weighted')\n",
    "six_client_recall = recall_score(y_test,predictions, average='weighted')\n",
    "six_client_f1 = f1_score(y_test,predictions, average='weighted')\n",
    "print(\"Accuracy test set: \", six_client_accuracy)\n",
    "print(\"Precision test set: \", six_client_precision)\n",
    "print(\"Recall test set: \", six_client_recall )\n",
    "print(\"F1-Score test set: \", six_client_f1)"
   ]
  },
  {
   "cell_type": "markdown",
   "metadata": {},
   "source": [
    "### 8 Clients"
   ]
  },
  {
   "cell_type": "code",
   "execution_count": 37,
   "metadata": {},
   "outputs": [],
   "source": [
    "# Split data into two clients\n",
    "x_train_caa, x_train_cbb, y_train_caa, y_train_cbb = train_test_split(x_train, y_train, test_size=0.5, random_state=42)\n",
    "\n",
    "x_train_ca, x_train_cb, y_train_ca, y_train_cb = train_test_split(x_train_caa, y_train_caa, test_size=0.5, random_state=42)\n",
    "x_train_cc, x_train_cd, y_train_cc, y_train_cd = train_test_split(x_train_cbb, y_train_cbb, test_size=0.5, random_state=42)\n",
    "\n",
    "x_train_c1, x_train_c2, y_train_c1, y_train_c2 = train_test_split(x_train_ca, y_train_ca, test_size=0.5, random_state=42)\n",
    "x_train_c3, x_train_c4, y_train_c3, y_train_c4 = train_test_split(x_train_cb, y_train_cb, test_size=0.5, random_state=42)\n",
    "x_train_c5, x_train_c6, y_train_c5, y_train_c6 = train_test_split(x_train_cc, y_train_cc, test_size=0.5, random_state=42)\n",
    "x_train_c7, x_train_c8, y_train_c7, y_train_c8 = train_test_split(x_train_cd, y_train_cd, test_size=0.5, random_state=42)"
   ]
  },
  {
   "cell_type": "code",
   "execution_count": 38,
   "metadata": {},
   "outputs": [
    {
     "name": "stdout",
     "output_type": "stream",
     "text": [
      "Epoch 1/5\n",
      "235/235 [==============================] - 2s 4ms/step - loss: 0.6095 - accuracy: 0.8265\n",
      "Epoch 2/5\n",
      "235/235 [==============================] - 1s 4ms/step - loss: 0.2891 - accuracy: 0.9165\n",
      "Epoch 3/5\n",
      "235/235 [==============================] - 1s 4ms/step - loss: 0.2209 - accuracy: 0.9383\n",
      "Epoch 4/5\n",
      "235/235 [==============================] - 1s 4ms/step - loss: 0.1715 - accuracy: 0.9529\n",
      "Epoch 5/5\n",
      "235/235 [==============================] - 1s 4ms/step - loss: 0.1388 - accuracy: 0.9615\n",
      "\n",
      "Epoch 1/5\n",
      "235/235 [==============================] - 2s 4ms/step - loss: 0.6280 - accuracy: 0.8236\n",
      "Epoch 2/5\n",
      "235/235 [==============================] - 1s 3ms/step - loss: 0.2842 - accuracy: 0.9165\n",
      "Epoch 3/5\n",
      "235/235 [==============================] - 1s 4ms/step - loss: 0.2105 - accuracy: 0.9401\n",
      "Epoch 4/5\n",
      "235/235 [==============================] - 1s 3ms/step - loss: 0.1616 - accuracy: 0.9521\n",
      "Epoch 5/5\n",
      "235/235 [==============================] - 1s 3ms/step - loss: 0.1248 - accuracy: 0.9648\n",
      "\n",
      "Epoch 1/5\n",
      "235/235 [==============================] - 2s 4ms/step - loss: 0.5906 - accuracy: 0.8395\n",
      "Epoch 2/5\n",
      "235/235 [==============================] - 1s 4ms/step - loss: 0.2665 - accuracy: 0.9239\n",
      "Epoch 3/5\n",
      "235/235 [==============================] - 1s 4ms/step - loss: 0.1978 - accuracy: 0.9427\n",
      "Epoch 4/5\n",
      "235/235 [==============================] - 1s 3ms/step - loss: 0.1532 - accuracy: 0.9556\n",
      "Epoch 5/5\n",
      "235/235 [==============================] - 1s 3ms/step - loss: 0.1208 - accuracy: 0.9660\n",
      "\n",
      "Epoch 1/5\n",
      "235/235 [==============================] - 2s 3ms/step - loss: 0.5923 - accuracy: 0.8427\n",
      "Epoch 2/5\n",
      "235/235 [==============================] - 1s 4ms/step - loss: 0.2724 - accuracy: 0.9223\n",
      "Epoch 3/5\n",
      "235/235 [==============================] - 1s 4ms/step - loss: 0.2103 - accuracy: 0.9445\n",
      "Epoch 4/5\n",
      "235/235 [==============================] - 1s 4ms/step - loss: 0.1706 - accuracy: 0.9548\n",
      "Epoch 5/5\n",
      "235/235 [==============================] - 1s 4ms/step - loss: 0.1384 - accuracy: 0.9613\n",
      "\n",
      "Epoch 1/5\n",
      "235/235 [==============================] - 2s 4ms/step - loss: 0.6092 - accuracy: 0.8348\n",
      "Epoch 2/5\n",
      "235/235 [==============================] - 1s 4ms/step - loss: 0.2793 - accuracy: 0.9205\n",
      "Epoch 3/5\n",
      "235/235 [==============================] - 1s 4ms/step - loss: 0.2052 - accuracy: 0.9427\n",
      "Epoch 4/5\n",
      "235/235 [==============================] - 1s 4ms/step - loss: 0.1582 - accuracy: 0.9557\n",
      "Epoch 5/5\n",
      "235/235 [==============================] - 1s 4ms/step - loss: 0.1249 - accuracy: 0.9663\n",
      "\n",
      "Epoch 1/5\n",
      "235/235 [==============================] - 2s 4ms/step - loss: 0.6299 - accuracy: 0.8245\n",
      "Epoch 2/5\n",
      "235/235 [==============================] - 1s 4ms/step - loss: 0.2856 - accuracy: 0.9159\n",
      "Epoch 3/5\n",
      "235/235 [==============================] - 1s 4ms/step - loss: 0.2174 - accuracy: 0.9401\n",
      "Epoch 4/5\n",
      "235/235 [==============================] - 1s 4ms/step - loss: 0.1668 - accuracy: 0.9545\n",
      "Epoch 5/5\n",
      "235/235 [==============================] - 1s 4ms/step - loss: 0.1312 - accuracy: 0.9649\n",
      "\n",
      "Epoch 1/5\n",
      "235/235 [==============================] - 2s 4ms/step - loss: 0.6163 - accuracy: 0.8288\n",
      "Epoch 2/5\n",
      "235/235 [==============================] - 1s 4ms/step - loss: 0.2827 - accuracy: 0.9165\n",
      "Epoch 3/5\n",
      "235/235 [==============================] - 1s 4ms/step - loss: 0.2147 - accuracy: 0.9387\n",
      "Epoch 4/5\n",
      "235/235 [==============================] - 1s 4ms/step - loss: 0.1681 - accuracy: 0.9539\n",
      "Epoch 5/5\n",
      "235/235 [==============================] - 1s 4ms/step - loss: 0.1314 - accuracy: 0.9636\n",
      "\n",
      "Epoch 1/5\n",
      "235/235 [==============================] - 2s 3ms/step - loss: 0.6094 - accuracy: 0.8369\n",
      "Epoch 2/5\n",
      "235/235 [==============================] - 1s 4ms/step - loss: 0.2692 - accuracy: 0.9232\n",
      "Epoch 3/5\n",
      "235/235 [==============================] - 1s 4ms/step - loss: 0.1974 - accuracy: 0.9455\n",
      "Epoch 4/5\n",
      "235/235 [==============================] - 1s 4ms/step - loss: 0.1524 - accuracy: 0.9591\n",
      "Epoch 5/5\n",
      "235/235 [==============================] - 1s 3ms/step - loss: 0.1204 - accuracy: 0.9684\n"
     ]
    }
   ],
   "source": [
    "# Create and train client models\n",
    "client1_model = create_client_model()\n",
    "client2_model = create_client_model()\n",
    "client3_model = create_client_model()\n",
    "client4_model = create_client_model()\n",
    "client5_model = create_client_model()\n",
    "client6_model = create_client_model()\n",
    "client7_model = create_client_model()\n",
    "client8_model = create_client_model()\n",
    "\n",
    "\n",
    "client1_model = train_client_model(client1_model, x_train_c1, y_train_c1)\n",
    "print()\n",
    "client2_model = train_client_model(client2_model, x_train_c2, y_train_c2)\n",
    "print()\n",
    "client3_model = train_client_model(client3_model, x_train_c3, y_train_c3)\n",
    "print()\n",
    "client4_model = train_client_model(client4_model, x_train_c4, y_train_c4)\n",
    "print()\n",
    "client5_model = train_client_model(client5_model, x_train_c5, y_train_c5)\n",
    "print()\n",
    "client6_model = train_client_model(client6_model, x_train_c6, y_train_c6)\n",
    "print()\n",
    "client7_model = train_client_model(client7_model, x_train_c7, y_train_c7)\n",
    "print()\n",
    "client8_model = train_client_model(client8_model, x_train_c8, y_train_c8)"
   ]
  },
  {
   "cell_type": "code",
   "execution_count": 39,
   "metadata": {},
   "outputs": [],
   "source": [
    "# Federated averaging\n",
    "def federated_average_weights(weight1, weight2, weight3, weight4, weight5, weight6, weight7, weight8):\n",
    "    new_weights = []\n",
    "    for w1, w2, w3, w4, w5, w6, w7, w8 in zip(weight1, weight2, weight3, weight4, weight5, weight6, weight7, weight8):\n",
    "        new_weights.append((w1 + w2 + w3 +w4 +w5 +w6 + w7+ w8) / 8)\n",
    "    return new_weights"
   ]
  },
  {
   "cell_type": "code",
   "execution_count": 40,
   "metadata": {},
   "outputs": [],
   "source": [
    "# Aggregate models\n",
    "aggregated_weights = federated_average_weights(client1_model.get_weights(), client2_model.get_weights(), client3_model.get_weights(), client4_model.get_weights(), \n",
    "                                               client5_model.get_weights(), client6_model.get_weights(), client7_model.get_weights(), client8_model.get_weights())"
   ]
  },
  {
   "cell_type": "code",
   "execution_count": 41,
   "metadata": {},
   "outputs": [],
   "source": [
    "# Create global model and set weights\n",
    "global_model = create_client_model()\n",
    "global_model.set_weights(aggregated_weights)"
   ]
  },
  {
   "cell_type": "code",
   "execution_count": 42,
   "metadata": {},
   "outputs": [
    {
     "name": "stdout",
     "output_type": "stream",
     "text": [
      "313/313 - 1s - loss: 1.4272 - accuracy: 0.6055 - 895ms/epoch - 3ms/step\n",
      "Test accuracy: 0.6054999828338623\n"
     ]
    }
   ],
   "source": [
    "# Evaluate global model\n",
    "test_loss, test_acc = global_model.evaluate(x_test, y_test, verbose=2)\n",
    "print('Test accuracy:', test_acc)"
   ]
  },
  {
   "cell_type": "code",
   "execution_count": 43,
   "metadata": {},
   "outputs": [],
   "source": [
    "from sklearn.metrics import classification_report\n",
    "from sklearn.metrics import accuracy_score, precision_score, recall_score, f1_score"
   ]
  },
  {
   "cell_type": "code",
   "execution_count": 44,
   "metadata": {},
   "outputs": [
    {
     "name": "stdout",
     "output_type": "stream",
     "text": [
      "313/313 [==============================] - 1s 2ms/step\n",
      "(10000, 10)\n"
     ]
    }
   ],
   "source": [
    "predictions = global_model.predict(x_test)\n",
    "print(predictions.shape)\n",
    "\n",
    "predictions = list(predictions.argmax(axis=1))"
   ]
  },
  {
   "cell_type": "code",
   "execution_count": 45,
   "metadata": {},
   "outputs": [
    {
     "name": "stdout",
     "output_type": "stream",
     "text": [
      "              precision    recall  f1-score   support\n",
      "\n",
      "           0       0.97      0.26      0.41       980\n",
      "           1       0.94      0.95      0.95      1135\n",
      "           2       0.88      0.87      0.87      1032\n",
      "           3       0.81      0.80      0.81      1010\n",
      "           4       0.88      0.75      0.81       982\n",
      "           5       0.25      0.94      0.40       892\n",
      "           6       0.99      0.43      0.60       958\n",
      "           7       0.50      0.96      0.66      1028\n",
      "           8       0.50      0.00      0.00       974\n",
      "           9       0.91      0.04      0.08      1009\n",
      "\n",
      "    accuracy                           0.61     10000\n",
      "   macro avg       0.76      0.60      0.56     10000\n",
      "weighted avg       0.77      0.61      0.57     10000\n",
      "\n"
     ]
    }
   ],
   "source": [
    "eight_client_classification_report = classification_report(y_test, predictions)\n",
    "print(eight_client_classification_report)"
   ]
  },
  {
   "cell_type": "code",
   "execution_count": 46,
   "metadata": {
    "scrolled": true
   },
   "outputs": [
    {
     "name": "stdout",
     "output_type": "stream",
     "text": [
      "Accuracy test set:  0.6055\n",
      "Precision test set:  0.7707806632334815\n",
      "Recall test set:  0.6055\n",
      "F1-Score test set:  0.5674750619495673\n"
     ]
    }
   ],
   "source": [
    "eight_client_accuracy = accuracy_score(y_test,predictions)\n",
    "eight_client_precision = precision_score(y_test,predictions, average='weighted')\n",
    "eight_client_recall = recall_score(y_test,predictions, average='weighted')\n",
    "eight_client_f1 = f1_score(y_test,predictions, average='weighted')\n",
    "print(\"Accuracy test set: \", eight_client_accuracy)\n",
    "print(\"Precision test set: \", eight_client_precision)\n",
    "print(\"Recall test set: \", eight_client_recall )\n",
    "print(\"F1-Score test set: \", eight_client_f1)"
   ]
  },
  {
   "cell_type": "code",
   "execution_count": null,
   "metadata": {},
   "outputs": [],
   "source": []
  },
  {
   "cell_type": "markdown",
   "metadata": {},
   "source": [
    "### 10 Clients"
   ]
  },
  {
   "cell_type": "code",
   "execution_count": 47,
   "metadata": {},
   "outputs": [],
   "source": [
    "# Split data into two clients\n",
    "x_train_c1 = x_train[0:6000]\n",
    "x_train_c2 = x_train[6000:12000]\n",
    "x_train_c3 = x_train[12000:18000]\n",
    "x_train_c4 = x_train[18000:24000]\n",
    "x_train_c5 = x_train[24000:30000]\n",
    "x_train_c6 = x_train[30000:36000]\n",
    "x_train_c7 = x_train[36000:42000]\n",
    "x_train_c8 = x_train[42000:48000]\n",
    "x_train_c9 = x_train[48000:54000]\n",
    "x_train_c10 = x_train[54000:60000]\n",
    "\n",
    "y_train_c1 = y_train[0:6000]\n",
    "y_train_c2 = y_train[6000:12000]\n",
    "y_train_c3 = y_train[12000:18000]\n",
    "y_train_c4 = y_train[18000:24000]\n",
    "y_train_c5 = y_train[24000:30000]\n",
    "y_train_c6 = y_train[30000:36000]\n",
    "y_train_c7 = y_train[36000:42000]\n",
    "y_train_c8 = y_train[42000:48000]\n",
    "y_train_c9 = y_train[48000:54000]\n",
    "y_train_c10 = y_train[54000:60000]"
   ]
  },
  {
   "cell_type": "code",
   "execution_count": 48,
   "metadata": {},
   "outputs": [
    {
     "name": "stdout",
     "output_type": "stream",
     "text": [
      "Epoch 1/5\n",
      "188/188 [==============================] - 2s 4ms/step - loss: 0.6476 - accuracy: 0.8247\n",
      "Epoch 2/5\n",
      "188/188 [==============================] - 1s 3ms/step - loss: 0.2728 - accuracy: 0.9270\n",
      "Epoch 3/5\n",
      "188/188 [==============================] - 1s 3ms/step - loss: 0.2023 - accuracy: 0.9442\n",
      "Epoch 4/5\n",
      "188/188 [==============================] - 1s 3ms/step - loss: 0.1558 - accuracy: 0.9573\n",
      "Epoch 5/5\n",
      "188/188 [==============================] - 1s 3ms/step - loss: 0.1222 - accuracy: 0.9677\n",
      "\n",
      "Epoch 1/5\n",
      "188/188 [==============================] - 2s 4ms/step - loss: 0.6425 - accuracy: 0.8240\n",
      "Epoch 2/5\n",
      "188/188 [==============================] - 1s 4ms/step - loss: 0.2846 - accuracy: 0.9172\n",
      "Epoch 3/5\n",
      "188/188 [==============================] - 1s 4ms/step - loss: 0.2118 - accuracy: 0.9408\n",
      "Epoch 4/5\n",
      "188/188 [==============================] - 1s 4ms/step - loss: 0.1667 - accuracy: 0.9533\n",
      "Epoch 5/5\n",
      "188/188 [==============================] - 1s 4ms/step - loss: 0.1345 - accuracy: 0.9635\n",
      "\n",
      "Epoch 1/5\n",
      "188/188 [==============================] - 1s 3ms/step - loss: 0.7085 - accuracy: 0.8005\n",
      "Epoch 2/5\n",
      "188/188 [==============================] - 0s 3ms/step - loss: 0.3197 - accuracy: 0.9078\n",
      "Epoch 3/5\n",
      "188/188 [==============================] - 1s 4ms/step - loss: 0.2372 - accuracy: 0.9342\n",
      "Epoch 4/5\n",
      "188/188 [==============================] - 1s 4ms/step - loss: 0.1853 - accuracy: 0.9483\n",
      "Epoch 5/5\n",
      "188/188 [==============================] - 1s 4ms/step - loss: 0.1440 - accuracy: 0.9590\n",
      "\n",
      "Epoch 1/5\n",
      "188/188 [==============================] - 2s 4ms/step - loss: 0.6321 - accuracy: 0.8362\n",
      "Epoch 2/5\n",
      "188/188 [==============================] - 1s 3ms/step - loss: 0.2683 - accuracy: 0.9258\n",
      "Epoch 3/5\n",
      "188/188 [==============================] - 1s 4ms/step - loss: 0.2043 - accuracy: 0.9435\n",
      "Epoch 4/5\n",
      "188/188 [==============================] - 1s 4ms/step - loss: 0.1612 - accuracy: 0.9543\n",
      "Epoch 5/5\n",
      "188/188 [==============================] - 1s 4ms/step - loss: 0.1254 - accuracy: 0.9645\n",
      "\n",
      "Epoch 1/5\n",
      "188/188 [==============================] - 2s 3ms/step - loss: 0.6486 - accuracy: 0.8255\n",
      "Epoch 2/5\n",
      "188/188 [==============================] - 1s 4ms/step - loss: 0.2795 - accuracy: 0.9168\n",
      "Epoch 3/5\n",
      "188/188 [==============================] - 1s 4ms/step - loss: 0.2075 - accuracy: 0.9407\n",
      "Epoch 4/5\n",
      "188/188 [==============================] - 1s 4ms/step - loss: 0.1617 - accuracy: 0.9545\n",
      "Epoch 5/5\n",
      "188/188 [==============================] - 1s 4ms/step - loss: 0.1213 - accuracy: 0.9680\n",
      "\n",
      "Epoch 1/5\n",
      "188/188 [==============================] - 2s 4ms/step - loss: 0.6706 - accuracy: 0.8147\n",
      "Epoch 2/5\n",
      "188/188 [==============================] - 1s 4ms/step - loss: 0.2951 - accuracy: 0.9172\n",
      "Epoch 3/5\n",
      "188/188 [==============================] - 1s 4ms/step - loss: 0.2252 - accuracy: 0.9370\n",
      "Epoch 4/5\n",
      "188/188 [==============================] - 1s 4ms/step - loss: 0.1741 - accuracy: 0.9503\n",
      "Epoch 5/5\n",
      "188/188 [==============================] - 1s 4ms/step - loss: 0.1399 - accuracy: 0.9587\n",
      "\n",
      "Epoch 1/5\n",
      "188/188 [==============================] - 2s 4ms/step - loss: 0.6523 - accuracy: 0.8127\n",
      "Epoch 2/5\n",
      "188/188 [==============================] - 1s 4ms/step - loss: 0.2993 - accuracy: 0.9145\n",
      "Epoch 3/5\n",
      "188/188 [==============================] - 1s 4ms/step - loss: 0.2232 - accuracy: 0.9377\n",
      "Epoch 4/5\n",
      "188/188 [==============================] - 1s 4ms/step - loss: 0.1733 - accuracy: 0.9550\n",
      "Epoch 5/5\n",
      "188/188 [==============================] - 1s 4ms/step - loss: 0.1363 - accuracy: 0.9635\n",
      "\n",
      "Epoch 1/5\n",
      "188/188 [==============================] - 2s 4ms/step - loss: 0.6549 - accuracy: 0.8162\n",
      "Epoch 2/5\n",
      "188/188 [==============================] - 1s 4ms/step - loss: 0.3077 - accuracy: 0.9078\n",
      "Epoch 3/5\n",
      "188/188 [==============================] - 1s 4ms/step - loss: 0.2268 - accuracy: 0.9352\n",
      "Epoch 4/5\n",
      "188/188 [==============================] - 1s 4ms/step - loss: 0.1818 - accuracy: 0.9488\n",
      "Epoch 5/5\n",
      "188/188 [==============================] - 1s 4ms/step - loss: 0.1484 - accuracy: 0.9590\n",
      "\n",
      "Epoch 1/5\n",
      "188/188 [==============================] - 2s 4ms/step - loss: 0.6779 - accuracy: 0.8108\n",
      "Epoch 2/5\n",
      "188/188 [==============================] - 1s 4ms/step - loss: 0.2997 - accuracy: 0.9175\n",
      "Epoch 3/5\n",
      "188/188 [==============================] - 1s 4ms/step - loss: 0.2204 - accuracy: 0.9390\n",
      "Epoch 4/5\n",
      "188/188 [==============================] - 1s 4ms/step - loss: 0.1665 - accuracy: 0.9538\n",
      "Epoch 5/5\n",
      "188/188 [==============================] - 1s 3ms/step - loss: 0.1290 - accuracy: 0.9662\n",
      "\n",
      "Epoch 1/5\n",
      "188/188 [==============================] - 2s 4ms/step - loss: 0.5726 - accuracy: 0.8488\n",
      "Epoch 2/5\n",
      "188/188 [==============================] - 1s 4ms/step - loss: 0.2337 - accuracy: 0.9332\n",
      "Epoch 3/5\n",
      "188/188 [==============================] - 1s 4ms/step - loss: 0.1748 - accuracy: 0.9502\n",
      "Epoch 4/5\n",
      "188/188 [==============================] - 1s 4ms/step - loss: 0.1313 - accuracy: 0.9647\n",
      "Epoch 5/5\n",
      "188/188 [==============================] - 1s 4ms/step - loss: 0.0998 - accuracy: 0.9747\n"
     ]
    }
   ],
   "source": [
    "# Create and train client models\n",
    "client1_model = create_client_model()\n",
    "client2_model = create_client_model()\n",
    "client3_model = create_client_model()\n",
    "client4_model = create_client_model()\n",
    "client5_model = create_client_model()\n",
    "client6_model = create_client_model()\n",
    "client7_model = create_client_model()\n",
    "client8_model = create_client_model()\n",
    "client9_model = create_client_model()\n",
    "client10_model = create_client_model()\n",
    "\n",
    "client1_model = train_client_model(client1_model, x_train_c1, y_train_c1)\n",
    "print()\n",
    "client2_model = train_client_model(client2_model, x_train_c2, y_train_c2)\n",
    "print()\n",
    "client3_model = train_client_model(client3_model, x_train_c3, y_train_c3)\n",
    "print()\n",
    "client4_model = train_client_model(client4_model, x_train_c4, y_train_c4)\n",
    "print()\n",
    "client5_model = train_client_model(client5_model, x_train_c5, y_train_c5)\n",
    "print()\n",
    "client6_model = train_client_model(client6_model, x_train_c6, y_train_c6)\n",
    "print()\n",
    "client7_model = train_client_model(client7_model, x_train_c7, y_train_c7)\n",
    "print()\n",
    "client8_model = train_client_model(client8_model, x_train_c8, y_train_c8)\n",
    "print()\n",
    "client9_model = train_client_model(client9_model, x_train_c9, y_train_c9)\n",
    "print()\n",
    "client10_model = train_client_model(client10_model, x_train_c10, y_train_c10)"
   ]
  },
  {
   "cell_type": "code",
   "execution_count": 49,
   "metadata": {},
   "outputs": [],
   "source": [
    "# Federated averaging\n",
    "def federated_average_weights(weight1, weight2, weight3, weight4, weight5, weight6, weight7, weight8, weight9, weight10):\n",
    "    new_weights = []\n",
    "    for w1, w2, w3, w4, w5, w6, w7, w8, w9, w10 in zip(weight1, weight2, weight3, weight4, weight5, weight6, weight7, weight8, weight9, weight10):\n",
    "        new_weights.append((w1 + w2 + w3 +w4 +w5 +w6 + w7 +w8 +w9 +w10) / 10)\n",
    "    return new_weights"
   ]
  },
  {
   "cell_type": "code",
   "execution_count": 50,
   "metadata": {},
   "outputs": [],
   "source": [
    "# Aggregate models\n",
    "aggregated_weights = federated_average_weights(client1_model.get_weights(), client2_model.get_weights(), client3_model.get_weights(), client4_model.get_weights(),\n",
    "                                               client5_model.get_weights(), client6_model.get_weights(), client7_model.get_weights(), client8_model.get_weights(),\n",
    "                                               client9_model.get_weights(), client10_model.get_weights())"
   ]
  },
  {
   "cell_type": "code",
   "execution_count": 51,
   "metadata": {},
   "outputs": [],
   "source": [
    "# Create global model and set weights\n",
    "global_model = create_client_model()\n",
    "global_model.set_weights(aggregated_weights)"
   ]
  },
  {
   "cell_type": "code",
   "execution_count": 52,
   "metadata": {},
   "outputs": [
    {
     "name": "stdout",
     "output_type": "stream",
     "text": [
      "313/313 - 1s - loss: 1.6952 - accuracy: 0.4355 - 1s/epoch - 4ms/step\n",
      "Test accuracy: 0.43549999594688416\n"
     ]
    }
   ],
   "source": [
    "# Evaluate global model\n",
    "test_loss, test_acc = global_model.evaluate(x_test, y_test, verbose=2)\n",
    "print('Test accuracy:', test_acc)"
   ]
  },
  {
   "cell_type": "code",
   "execution_count": 53,
   "metadata": {},
   "outputs": [],
   "source": [
    "from sklearn.metrics import classification_report\n",
    "from sklearn.metrics import accuracy_score, precision_score, recall_score, f1_score"
   ]
  },
  {
   "cell_type": "code",
   "execution_count": 54,
   "metadata": {},
   "outputs": [
    {
     "name": "stdout",
     "output_type": "stream",
     "text": [
      "313/313 [==============================] - 1s 2ms/step\n",
      "(10000, 10)\n"
     ]
    }
   ],
   "source": [
    "predictions = global_model.predict(x_test)\n",
    "print(predictions.shape)\n",
    "\n",
    "predictions = list(predictions.argmax(axis=1))"
   ]
  },
  {
   "cell_type": "code",
   "execution_count": 55,
   "metadata": {},
   "outputs": [
    {
     "name": "stdout",
     "output_type": "stream",
     "text": [
      "              precision    recall  f1-score   support\n",
      "\n",
      "           0       0.00      0.00      0.00       980\n",
      "           1       0.99      0.43      0.60      1135\n",
      "           2       0.55      0.90      0.69      1032\n",
      "           3       0.98      0.37      0.54      1010\n",
      "           4       0.70      0.64      0.67       982\n",
      "           5       0.24      0.97      0.39       892\n",
      "           6       1.00      0.03      0.06       958\n",
      "           7       0.35      0.98      0.51      1028\n",
      "           8       0.00      0.00      0.00       974\n",
      "           9       0.80      0.01      0.02      1009\n",
      "\n",
      "    accuracy                           0.44     10000\n",
      "   macro avg       0.56      0.44      0.35     10000\n",
      "weighted avg       0.57      0.44      0.36     10000\n",
      "\n"
     ]
    },
    {
     "name": "stderr",
     "output_type": "stream",
     "text": [
      "C:\\Users\\sasen\\anaconda3\\Lib\\site-packages\\sklearn\\metrics\\_classification.py:1344: UndefinedMetricWarning: Precision and F-score are ill-defined and being set to 0.0 in labels with no predicted samples. Use `zero_division` parameter to control this behavior.\n",
      "  _warn_prf(average, modifier, msg_start, len(result))\n",
      "C:\\Users\\sasen\\anaconda3\\Lib\\site-packages\\sklearn\\metrics\\_classification.py:1344: UndefinedMetricWarning: Precision and F-score are ill-defined and being set to 0.0 in labels with no predicted samples. Use `zero_division` parameter to control this behavior.\n",
      "  _warn_prf(average, modifier, msg_start, len(result))\n",
      "C:\\Users\\sasen\\anaconda3\\Lib\\site-packages\\sklearn\\metrics\\_classification.py:1344: UndefinedMetricWarning: Precision and F-score are ill-defined and being set to 0.0 in labels with no predicted samples. Use `zero_division` parameter to control this behavior.\n",
      "  _warn_prf(average, modifier, msg_start, len(result))\n"
     ]
    }
   ],
   "source": [
    "ten_client_classification_report = classification_report(y_test, predictions)\n",
    "print(ten_client_classification_report)"
   ]
  },
  {
   "cell_type": "code",
   "execution_count": 56,
   "metadata": {
    "scrolled": true
   },
   "outputs": [
    {
     "name": "stdout",
     "output_type": "stream",
     "text": [
      "Accuracy test set:  0.4355\n",
      "Precision test set:  0.5712943522605463\n",
      "Recall test set:  0.4355\n",
      "F1-Score test set:  0.355490720202256\n"
     ]
    },
    {
     "name": "stderr",
     "output_type": "stream",
     "text": [
      "C:\\Users\\sasen\\anaconda3\\Lib\\site-packages\\sklearn\\metrics\\_classification.py:1344: UndefinedMetricWarning: Precision is ill-defined and being set to 0.0 in labels with no predicted samples. Use `zero_division` parameter to control this behavior.\n",
      "  _warn_prf(average, modifier, msg_start, len(result))\n"
     ]
    }
   ],
   "source": [
    "ten_client_accuracy = accuracy_score(y_test,predictions)\n",
    "ten_client_precision = precision_score(y_test,predictions, average='weighted')\n",
    "ten_client_recall = recall_score(y_test,predictions, average='weighted')\n",
    "ten_client_f1 = f1_score(y_test,predictions, average='weighted')\n",
    "print(\"Accuracy test set: \", ten_client_accuracy)\n",
    "print(\"Precision test set: \", ten_client_precision)\n",
    "print(\"Recall test set: \", ten_client_recall )\n",
    "print(\"F1-Score test set: \", ten_client_f1)"
   ]
  },
  {
   "cell_type": "code",
   "execution_count": 60,
   "metadata": {},
   "outputs": [
    {
     "name": "stdout",
     "output_type": "stream",
     "text": [
      "[[0.906, 0.7037, 0.5255, 0.6055, 0.4355], [0.9137041502903684, 0.8239934467650722, 0.7437409603473603, 0.7707806632334815, 0.5712943522605463], [0.906, 0.7037, 0.5255, 0.6055, 0.4355], [0.9062726098001964, 0.6822709639898848, 0.5113461237751503, 0.5674750619495673, 0.355490720202256]]\n"
     ]
    },
    {
     "data": {
      "text/html": [
       "<div>\n",
       "<style scoped>\n",
       "    .dataframe tbody tr th:only-of-type {\n",
       "        vertical-align: middle;\n",
       "    }\n",
       "\n",
       "    .dataframe tbody tr th {\n",
       "        vertical-align: top;\n",
       "    }\n",
       "\n",
       "    .dataframe thead th {\n",
       "        text-align: right;\n",
       "    }\n",
       "</style>\n",
       "<table border=\"1\" class=\"dataframe\">\n",
       "  <thead>\n",
       "    <tr style=\"text-align: right;\">\n",
       "      <th></th>\n",
       "      <th>Accuracy</th>\n",
       "      <th>Precision</th>\n",
       "      <th>Recall</th>\n",
       "      <th>F1_Score</th>\n",
       "    </tr>\n",
       "  </thead>\n",
       "  <tbody>\n",
       "    <tr>\n",
       "      <th>2</th>\n",
       "      <td>0.9060</td>\n",
       "      <td>0.913704</td>\n",
       "      <td>0.9060</td>\n",
       "      <td>0.906273</td>\n",
       "    </tr>\n",
       "    <tr>\n",
       "      <th>4</th>\n",
       "      <td>0.7037</td>\n",
       "      <td>0.823993</td>\n",
       "      <td>0.7037</td>\n",
       "      <td>0.682271</td>\n",
       "    </tr>\n",
       "    <tr>\n",
       "      <th>6</th>\n",
       "      <td>0.5255</td>\n",
       "      <td>0.743741</td>\n",
       "      <td>0.5255</td>\n",
       "      <td>0.511346</td>\n",
       "    </tr>\n",
       "    <tr>\n",
       "      <th>8</th>\n",
       "      <td>0.6055</td>\n",
       "      <td>0.770781</td>\n",
       "      <td>0.6055</td>\n",
       "      <td>0.567475</td>\n",
       "    </tr>\n",
       "    <tr>\n",
       "      <th>10</th>\n",
       "      <td>0.4355</td>\n",
       "      <td>0.571294</td>\n",
       "      <td>0.4355</td>\n",
       "      <td>0.355491</td>\n",
       "    </tr>\n",
       "  </tbody>\n",
       "</table>\n",
       "</div>"
      ],
      "text/plain": [
       "    Accuracy  Precision  Recall  F1_Score\n",
       "2     0.9060   0.913704  0.9060  0.906273\n",
       "4     0.7037   0.823993  0.7037  0.682271\n",
       "6     0.5255   0.743741  0.5255  0.511346\n",
       "8     0.6055   0.770781  0.6055  0.567475\n",
       "10    0.4355   0.571294  0.4355  0.355491"
      ]
     },
     "execution_count": 60,
     "metadata": {},
     "output_type": "execute_result"
    }
   ],
   "source": [
    "import pandas as pd\n",
    "\n",
    "ErrorMetrics = []\n",
    "\n",
    "test_accuracy = [two_client_accuracy, four_client_accuracy, six_client_accuracy, eight_client_accuracy, ten_client_accuracy]\n",
    "test_precision = [two_client_precision, four_client_precision, six_client_precision, eight_client_precision, ten_client_precision]\n",
    "test_recall = [two_client_recall,four_client_recall,six_client_recall, eight_client_recall,ten_client_recall]\n",
    "test_f1 = [two_client_f1,four_client_f1, six_client_f1,eight_client_f1, ten_client_f1]\n",
    "\n",
    "ErrorMetrics.append(test_accuracy)\n",
    "ErrorMetrics.append(test_precision)\n",
    "ErrorMetrics.append(test_recall)\n",
    "ErrorMetrics.append(test_f1)\n",
    "\n",
    "print(ErrorMetrics)\n",
    "\n",
    "ErrorMetrics_pd = pd.DataFrame(ErrorMetrics)\n",
    "ErrorMetrics_pd.columns = [2,4,6,8,10]\n",
    "ErrorMetrics_pd = ErrorMetrics_pd.T\n",
    "ErrorMetrics_pd.columns = ['Accuracy', 'Precision', 'Recall', 'F1_Score']\n",
    "ErrorMetrics_pd"
   ]
  },
  {
   "cell_type": "code",
   "execution_count": 72,
   "metadata": {},
   "outputs": [
    {
     "data": {
      "text/plain": [
       "<Axes: >"
      ]
     },
     "execution_count": 72,
     "metadata": {},
     "output_type": "execute_result"
    },
    {
     "data": {
      "image/png": "[encoded data removed]",
      "text/plain": [
       "<Figure size 1000x1000 with 1 Axes>"
      ]
     },
     "metadata": {},
     "output_type": "display_data"
    }
   ],
   "source": [
    "import matplotlib.pyplot as plt\n",
    "fig,ax = plt.subplots(figsize=(10,10))\n",
    "ErrorMetrics_pd.plot.bar(width = 0.7, alpha = 0.7, cmap = 'coolwarm', ax = ax)"
   ]
  },
  {
   "cell_type": "code",
   "execution_count": null,
   "metadata": {},
   "outputs": [],
   "source": []
  },
  {
   "cell_type": "markdown",
   "metadata": {},
   "source": [
    "## Hacker"
   ]
  },
  {
   "cell_type": "markdown",
   "metadata": {},
   "source": [
    "### 6 Clients with two Hackers"
   ]
  },
  {
   "cell_type": "code",
   "execution_count": null,
   "metadata": {},
   "outputs": [],
   "source": [
    "y_train[0:2500]"
   ]
  },
  {
   "cell_type": "code",
   "execution_count": 27,
   "metadata": {},
   "outputs": [],
   "source": [
    "# Split data into two clients\n",
    "x_train_c1 = x_train[0:10000]\n",
    "x_train_c2 = x_train[10000:20000]\n",
    "x_train_c3 = x_train[20000:30000]\n",
    "x_train_c4 = x_train[30000:40000]\n",
    "x_train_c5 = x_train[40000:50000]\n",
    "x_train_c6 = x_train[50000:59999]\n",
    "y_train_c1 = y_train[0:10000]\n",
    "y_train_c2 = y_train[10000:20000]\n",
    "y_train_c3 = y_train[20000:30000]\n",
    "y_train_c4 = y_train[30000:40000]\n",
    "y_train_c5 = y_train[40000:50000]\n",
    "y_train_c6 = y_train[50000:59999]"
   ]
  },
  {
   "cell_type": "code",
   "execution_count": 28,
   "metadata": {},
   "outputs": [
    {
     "name": "stdout",
     "output_type": "stream",
     "text": [
      "Epoch 1/5\n",
      "313/313 [==============================] - 2s 4ms/step - loss: 0.5129 - accuracy: 0.8593\n",
      "Epoch 2/5\n",
      "313/313 [==============================] - 1s 3ms/step - loss: 0.2453 - accuracy: 0.9301\n",
      "Epoch 3/5\n",
      "313/313 [==============================] - 1s 4ms/step - loss: 0.1809 - accuracy: 0.9492\n",
      "Epoch 4/5\n",
      "313/313 [==============================] - 1s 4ms/step - loss: 0.1400 - accuracy: 0.9603\n",
      "Epoch 5/5\n",
      "313/313 [==============================] - 1s 4ms/step - loss: 0.1094 - accuracy: 0.9702\n",
      "\n",
      "Epoch 1/5\n",
      "313/313 [==============================] - 2s 4ms/step - loss: 0.5379 - accuracy: 0.8469\n",
      "Epoch 2/5\n",
      "313/313 [==============================] - 1s 4ms/step - loss: 0.2409 - accuracy: 0.9332\n",
      "Epoch 3/5\n",
      "313/313 [==============================] - 1s 4ms/step - loss: 0.1721 - accuracy: 0.9524\n",
      "Epoch 4/5\n",
      "313/313 [==============================] - 1s 4ms/step - loss: 0.1294 - accuracy: 0.9658\n",
      "Epoch 5/5\n",
      "313/313 [==============================] - 1s 4ms/step - loss: 0.0989 - accuracy: 0.9739\n",
      "\n",
      "Epoch 1/5\n",
      "313/313 [==============================] - 2s 4ms/step - loss: 0.5258 - accuracy: 0.8545\n",
      "Epoch 2/5\n",
      "313/313 [==============================] - 1s 4ms/step - loss: 0.2424 - accuracy: 0.9318\n",
      "Epoch 3/5\n",
      "313/313 [==============================] - 1s 4ms/step - loss: 0.1778 - accuracy: 0.9476\n",
      "Epoch 4/5\n",
      "313/313 [==============================] - 1s 4ms/step - loss: 0.1333 - accuracy: 0.9626\n",
      "Epoch 5/5\n",
      "313/313 [==============================] - 1s 4ms/step - loss: 0.1019 - accuracy: 0.9708\n",
      "\n",
      "Epoch 1/5\n",
      "313/313 [==============================] - 3s 4ms/step - loss: 0.5546 - accuracy: 0.8473\n",
      "Epoch 2/5\n",
      "313/313 [==============================] - 1s 4ms/step - loss: 0.2470 - accuracy: 0.9291\n",
      "Epoch 3/5\n",
      "313/313 [==============================] - 1s 4ms/step - loss: 0.1804 - accuracy: 0.9478\n",
      "Epoch 4/5\n",
      "313/313 [==============================] - 1s 4ms/step - loss: 0.1438 - accuracy: 0.9601\n",
      "Epoch 5/5\n",
      "313/313 [==============================] - 1s 4ms/step - loss: 0.1122 - accuracy: 0.9709\n",
      "\n",
      "Epoch 1/5\n",
      "313/313 [==============================] - 2s 4ms/step - loss: 0.5439 - accuracy: 0.8491\n",
      "Epoch 2/5\n",
      "313/313 [==============================] - 1s 4ms/step - loss: 0.2466 - accuracy: 0.9267\n",
      "Epoch 3/5\n",
      "313/313 [==============================] - 1s 4ms/step - loss: 0.1904 - accuracy: 0.9461\n",
      "Epoch 4/5\n",
      "313/313 [==============================] - 1s 4ms/step - loss: 0.1452 - accuracy: 0.9583\n",
      "Epoch 5/5\n",
      "313/313 [==============================] - 1s 4ms/step - loss: 0.1136 - accuracy: 0.9697\n",
      "\n",
      "Epoch 1/5\n",
      "313/313 [==============================] - 2s 4ms/step - loss: 0.4709 - accuracy: 0.8735\n",
      "Epoch 2/5\n",
      "313/313 [==============================] - 1s 4ms/step - loss: 0.2252 - accuracy: 0.9374\n",
      "Epoch 3/5\n",
      "313/313 [==============================] - 1s 4ms/step - loss: 0.1702 - accuracy: 0.9531\n",
      "Epoch 4/5\n",
      "313/313 [==============================] - 1s 3ms/step - loss: 0.1311 - accuracy: 0.9613\n",
      "Epoch 5/5\n",
      "313/313 [==============================] - 1s 3ms/step - loss: 0.1033 - accuracy: 0.9701\n"
     ]
    }
   ],
   "source": [
    "# Create and train client models\n",
    "client1_model = create_client_model()\n",
    "client2_model = create_client_model()\n",
    "client3_model = create_client_model()\n",
    "client4_model = create_client_model()\n",
    "client5_model = create_client_model()\n",
    "client6_model = create_client_model()\n",
    "\n",
    "\n",
    "client1_model = train_client_model(client1_model, x_train_c1, y_train_c1)\n",
    "print()\n",
    "client2_model = train_client_model(client2_model, x_train_c2, y_train_c2)\n",
    "print()\n",
    "client3_model = train_client_model(client3_model, x_train_c3, y_train_c3)\n",
    "print()\n",
    "client4_model = train_client_model(client4_model, x_train_c4, y_train_c4)\n",
    "print()\n",
    "client5_model = train_client_model(client5_model, x_train_c5, y_train_c5)\n",
    "print()\n",
    "client6_model = train_client_model(client6_model, x_train_c6, y_train_c6)"
   ]
  },
  {
   "cell_type": "code",
   "execution_count": 29,
   "metadata": {},
   "outputs": [],
   "source": [
    "# Federated averaging\n",
    "def federated_average_weights(weight1, weight2, weight3, weight4, weight5, weight6):\n",
    "    new_weights = []\n",
    "    for w1, w2, w3, w4, w5, w6 in zip(weight1, weight2, weight3, weight4, weight5, weight6):\n",
    "        new_weights.append((w1 + w2 + w3 +w4 +w5 +w6) / 6)\n",
    "    return new_weights"
   ]
  },
  {
   "cell_type": "code",
   "execution_count": 30,
   "metadata": {},
   "outputs": [],
   "source": [
    "# Aggregate models\n",
    "aggregated_weights = federated_average_weights(client1_model.get_weights(), client2_model.get_weights(), client3_model.get_weights(), client4_model.get_weights(), \n",
    "                                               client5_model.get_weights(), client6_model.get_weights())"
   ]
  },
  {
   "cell_type": "code",
   "execution_count": 31,
   "metadata": {},
   "outputs": [],
   "source": [
    "# Create global model and set weights\n",
    "global_model = create_client_model()\n",
    "global_model.set_weights(aggregated_weights)"
   ]
  },
  {
   "cell_type": "code",
   "execution_count": 32,
   "metadata": {},
   "outputs": [
    {
     "name": "stdout",
     "output_type": "stream",
     "text": [
      "313/313 - 1s - loss: 1.3447 - accuracy: 0.5255 - 972ms/epoch - 3ms/step\n",
      "Test accuracy: 0.5254999995231628\n"
     ]
    }
   ],
   "source": [
    "# Evaluate global model\n",
    "test_loss, test_acc = global_model.evaluate(x_test, y_test, verbose=2)\n",
    "print('Test accuracy:', test_acc)"
   ]
  },
  {
   "cell_type": "code",
   "execution_count": 33,
   "metadata": {},
   "outputs": [],
   "source": [
    "from sklearn.metrics import classification_report\n",
    "from sklearn.metrics import accuracy_score, precision_score, recall_score, f1_score"
   ]
  },
  {
   "cell_type": "code",
   "execution_count": 34,
   "metadata": {},
   "outputs": [
    {
     "name": "stdout",
     "output_type": "stream",
     "text": [
      "313/313 [==============================] - 1s 2ms/step\n",
      "(10000, 10)\n"
     ]
    }
   ],
   "source": [
    "predictions = global_model.predict(x_test)\n",
    "print(predictions.shape)\n",
    "\n",
    "predictions = list(predictions.argmax(axis=1))"
   ]
  },
  {
   "cell_type": "code",
   "execution_count": 35,
   "metadata": {},
   "outputs": [
    {
     "name": "stdout",
     "output_type": "stream",
     "text": [
      "              precision    recall  f1-score   support\n",
      "\n",
      "           0       1.00      0.16      0.27       980\n",
      "           1       0.98      0.93      0.95      1135\n",
      "           2       0.60      0.95      0.74      1032\n",
      "           3       0.97      0.29      0.45      1010\n",
      "           4       0.97      0.34      0.51       982\n",
      "           5       0.19      0.99      0.32       892\n",
      "           6       0.98      0.32      0.48       958\n",
      "           7       0.75      0.92      0.83      1028\n",
      "           8       0.00      0.00      0.00       974\n",
      "           9       0.90      0.30      0.45      1009\n",
      "\n",
      "    accuracy                           0.53     10000\n",
      "   macro avg       0.73      0.52      0.50     10000\n",
      "weighted avg       0.74      0.53      0.51     10000\n",
      "\n"
     ]
    },
    {
     "name": "stderr",
     "output_type": "stream",
     "text": [
      "C:\\Users\\sasen\\anaconda3\\Lib\\site-packages\\sklearn\\metrics\\_classification.py:1344: UndefinedMetricWarning: Precision and F-score are ill-defined and being set to 0.0 in labels with no predicted samples. Use `zero_division` parameter to control this behavior.\n",
      "  _warn_prf(average, modifier, msg_start, len(result))\n",
      "C:\\Users\\sasen\\anaconda3\\Lib\\site-packages\\sklearn\\metrics\\_classification.py:1344: UndefinedMetricWarning: Precision and F-score are ill-defined and being set to 0.0 in labels with no predicted samples. Use `zero_division` parameter to control this behavior.\n",
      "  _warn_prf(average, modifier, msg_start, len(result))\n",
      "C:\\Users\\sasen\\anaconda3\\Lib\\site-packages\\sklearn\\metrics\\_classification.py:1344: UndefinedMetricWarning: Precision and F-score are ill-defined and being set to 0.0 in labels with no predicted samples. Use `zero_division` parameter to control this behavior.\n",
      "  _warn_prf(average, modifier, msg_start, len(result))\n"
     ]
    }
   ],
   "source": [
    "six_client_classification_report = classification_report(y_test, predictions)\n",
    "print(six_client_classification_report)"
   ]
  },
  {
   "cell_type": "code",
   "execution_count": 36,
   "metadata": {
    "scrolled": true
   },
   "outputs": [
    {
     "name": "stdout",
     "output_type": "stream",
     "text": [
      "Accuracy test set:  0.5255\n",
      "Precision test set:  0.7437409603473603\n",
      "Recall test set:  0.5255\n",
      "F1-Score test set:  0.5113461237751503\n"
     ]
    },
    {
     "name": "stderr",
     "output_type": "stream",
     "text": [
      "C:\\Users\\sasen\\anaconda3\\Lib\\site-packages\\sklearn\\metrics\\_classification.py:1344: UndefinedMetricWarning: Precision is ill-defined and being set to 0.0 in labels with no predicted samples. Use `zero_division` parameter to control this behavior.\n",
      "  _warn_prf(average, modifier, msg_start, len(result))\n"
     ]
    }
   ],
   "source": [
    "six_client_accuracy = accuracy_score(y_test,predictions)\n",
    "six_client_precision = precision_score(y_test,predictions, average='weighted')\n",
    "six_client_recall = recall_score(y_test,predictions, average='weighted')\n",
    "six_client_f1 = f1_score(y_test,predictions, average='weighted')\n",
    "print(\"Accuracy test set: \", six_client_accuracy)\n",
    "print(\"Precision test set: \", six_client_precision)\n",
    "print(\"Recall test set: \", six_client_recall )\n",
    "print(\"F1-Score test set: \", six_client_f1)"
   ]
  }
 ],
 "metadata": {
  "colab": {
   "provenance": []
  },
  "kernelspec": {
   "display_name": "Python 3 (ipykernel)",
   "language": "python",
   "name": "python3"
  },
  "language_info": {
   "codemirror_mode": {
    "name": "ipython",
    "version": 3
   },
   "file_extension": ".py",
   "mimetype": "text/x-python",
   "name": "python",
   "nbconvert_exporter": "python",
   "pygments_lexer": "ipython3",
   "version": "3.9.19"
  }
 },
 "nbformat": 4,
 "nbformat_minor": 4
}
